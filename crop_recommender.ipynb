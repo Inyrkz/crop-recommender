{
 "cells": [
  {
   "cell_type": "code",
   "execution_count": 1,
   "metadata": {},
   "outputs": [],
   "source": [
    "# mporting library\n",
    "import numpy as np\n",
    "import pandas as pd\n",
    "import matplotlib.pyplot as plt"
   ]
  },
  {
   "cell_type": "code",
   "execution_count": 2,
   "metadata": {},
   "outputs": [
    {
     "data": {
      "text/html": [
       "<div>\n",
       "<style scoped>\n",
       "    .dataframe tbody tr th:only-of-type {\n",
       "        vertical-align: middle;\n",
       "    }\n",
       "\n",
       "    .dataframe tbody tr th {\n",
       "        vertical-align: top;\n",
       "    }\n",
       "\n",
       "    .dataframe thead th {\n",
       "        text-align: right;\n",
       "    }\n",
       "</style>\n",
       "<table border=\"1\" class=\"dataframe\">\n",
       "  <thead>\n",
       "    <tr style=\"text-align: right;\">\n",
       "      <th></th>\n",
       "      <th>N</th>\n",
       "      <th>P</th>\n",
       "      <th>K</th>\n",
       "      <th>temperature</th>\n",
       "      <th>humidity</th>\n",
       "      <th>ph</th>\n",
       "      <th>rainfall</th>\n",
       "      <th>label</th>\n",
       "    </tr>\n",
       "  </thead>\n",
       "  <tbody>\n",
       "    <tr>\n",
       "      <th>0</th>\n",
       "      <td>90</td>\n",
       "      <td>42</td>\n",
       "      <td>43</td>\n",
       "      <td>20.879744</td>\n",
       "      <td>82.002744</td>\n",
       "      <td>6.502985</td>\n",
       "      <td>202.935536</td>\n",
       "      <td>rice</td>\n",
       "    </tr>\n",
       "    <tr>\n",
       "      <th>1</th>\n",
       "      <td>85</td>\n",
       "      <td>58</td>\n",
       "      <td>41</td>\n",
       "      <td>21.770462</td>\n",
       "      <td>80.319644</td>\n",
       "      <td>7.038096</td>\n",
       "      <td>226.655537</td>\n",
       "      <td>rice</td>\n",
       "    </tr>\n",
       "    <tr>\n",
       "      <th>2</th>\n",
       "      <td>60</td>\n",
       "      <td>55</td>\n",
       "      <td>44</td>\n",
       "      <td>23.004459</td>\n",
       "      <td>82.320763</td>\n",
       "      <td>7.840207</td>\n",
       "      <td>263.964248</td>\n",
       "      <td>rice</td>\n",
       "    </tr>\n",
       "    <tr>\n",
       "      <th>3</th>\n",
       "      <td>74</td>\n",
       "      <td>35</td>\n",
       "      <td>40</td>\n",
       "      <td>26.491096</td>\n",
       "      <td>80.158363</td>\n",
       "      <td>6.980401</td>\n",
       "      <td>242.864034</td>\n",
       "      <td>rice</td>\n",
       "    </tr>\n",
       "    <tr>\n",
       "      <th>4</th>\n",
       "      <td>78</td>\n",
       "      <td>42</td>\n",
       "      <td>42</td>\n",
       "      <td>20.130175</td>\n",
       "      <td>81.604873</td>\n",
       "      <td>7.628473</td>\n",
       "      <td>262.717340</td>\n",
       "      <td>rice</td>\n",
       "    </tr>\n",
       "    <tr>\n",
       "      <th>5</th>\n",
       "      <td>69</td>\n",
       "      <td>37</td>\n",
       "      <td>42</td>\n",
       "      <td>23.058049</td>\n",
       "      <td>83.370118</td>\n",
       "      <td>7.073454</td>\n",
       "      <td>251.055000</td>\n",
       "      <td>rice</td>\n",
       "    </tr>\n",
       "    <tr>\n",
       "      <th>6</th>\n",
       "      <td>69</td>\n",
       "      <td>55</td>\n",
       "      <td>38</td>\n",
       "      <td>22.708838</td>\n",
       "      <td>82.639414</td>\n",
       "      <td>5.700806</td>\n",
       "      <td>271.324860</td>\n",
       "      <td>rice</td>\n",
       "    </tr>\n",
       "    <tr>\n",
       "      <th>7</th>\n",
       "      <td>94</td>\n",
       "      <td>53</td>\n",
       "      <td>40</td>\n",
       "      <td>20.277744</td>\n",
       "      <td>82.894086</td>\n",
       "      <td>5.718627</td>\n",
       "      <td>241.974195</td>\n",
       "      <td>rice</td>\n",
       "    </tr>\n",
       "    <tr>\n",
       "      <th>8</th>\n",
       "      <td>89</td>\n",
       "      <td>54</td>\n",
       "      <td>38</td>\n",
       "      <td>24.515881</td>\n",
       "      <td>83.535216</td>\n",
       "      <td>6.685346</td>\n",
       "      <td>230.446236</td>\n",
       "      <td>rice</td>\n",
       "    </tr>\n",
       "    <tr>\n",
       "      <th>9</th>\n",
       "      <td>68</td>\n",
       "      <td>58</td>\n",
       "      <td>38</td>\n",
       "      <td>23.223974</td>\n",
       "      <td>83.033227</td>\n",
       "      <td>6.336254</td>\n",
       "      <td>221.209196</td>\n",
       "      <td>rice</td>\n",
       "    </tr>\n",
       "  </tbody>\n",
       "</table>\n",
       "</div>"
      ],
      "text/plain": [
       "    N   P   K  temperature   humidity        ph    rainfall label\n",
       "0  90  42  43    20.879744  82.002744  6.502985  202.935536  rice\n",
       "1  85  58  41    21.770462  80.319644  7.038096  226.655537  rice\n",
       "2  60  55  44    23.004459  82.320763  7.840207  263.964248  rice\n",
       "3  74  35  40    26.491096  80.158363  6.980401  242.864034  rice\n",
       "4  78  42  42    20.130175  81.604873  7.628473  262.717340  rice\n",
       "5  69  37  42    23.058049  83.370118  7.073454  251.055000  rice\n",
       "6  69  55  38    22.708838  82.639414  5.700806  271.324860  rice\n",
       "7  94  53  40    20.277744  82.894086  5.718627  241.974195  rice\n",
       "8  89  54  38    24.515881  83.535216  6.685346  230.446236  rice\n",
       "9  68  58  38    23.223974  83.033227  6.336254  221.209196  rice"
      ]
     },
     "execution_count": 2,
     "metadata": {},
     "output_type": "execute_result"
    }
   ],
   "source": [
    "# load the dataset\n",
    "dataset = pd.read_csv(\"crop_recommendation.csv\")\n",
    "dataset.head(10)"
   ]
  },
  {
   "cell_type": "code",
   "execution_count": 3,
   "metadata": {},
   "outputs": [
    {
     "data": {
      "text/plain": [
       "(2200, 8)"
      ]
     },
     "execution_count": 3,
     "metadata": {},
     "output_type": "execute_result"
    }
   ],
   "source": [
    "# check size of dataset\n",
    "dataset.shape"
   ]
  },
  {
   "cell_type": "code",
   "execution_count": 4,
   "metadata": {},
   "outputs": [
    {
     "data": {
      "text/plain": [
       "N              2200\n",
       "P              2200\n",
       "K              2200\n",
       "temperature    2200\n",
       "humidity       2200\n",
       "ph             2200\n",
       "rainfall       2200\n",
       "label          2200\n",
       "dtype: int64"
      ]
     },
     "execution_count": 4,
     "metadata": {},
     "output_type": "execute_result"
    }
   ],
   "source": [
    "# check the number of non-values in each column\n",
    "dataset.count(0)"
   ]
  },
  {
   "cell_type": "code",
   "execution_count": 5,
   "metadata": {},
   "outputs": [
    {
     "data": {
      "text/plain": [
       "0       8\n",
       "1       8\n",
       "2       8\n",
       "3       8\n",
       "4       8\n",
       "       ..\n",
       "2195    8\n",
       "2196    8\n",
       "2197    8\n",
       "2198    8\n",
       "2199    8\n",
       "Length: 2200, dtype: int64"
      ]
     },
     "execution_count": 5,
     "metadata": {},
     "output_type": "execute_result"
    }
   ],
   "source": [
    "# check the number of non-values in each row\n",
    "dataset.count(1)"
   ]
  },
  {
   "cell_type": "code",
   "execution_count": 6,
   "metadata": {},
   "outputs": [
    {
     "name": "stdout",
     "output_type": "stream",
     "text": [
      "{'muskmelon': 100, 'coffee': 100, 'mango': 100, 'banana': 100, 'pigeonpeas': 100, 'papaya': 100, 'blackgram': 100, 'rice': 100, 'lentil': 100, 'kidneybeans': 100, 'mungbean': 100, 'chickpea': 100, 'grapes': 100, 'pomegranate': 100, 'orange': 100, 'mothbeans': 100, 'apple': 100, 'watermelon': 100, 'maize': 100, 'jute': 100, 'coconut': 100, 'cotton': 100}\n"
     ]
    }
   ],
   "source": [
    "# create a dictionary containing the crop and its count\n",
    "label_count = dict(dataset['label'].value_counts())\n",
    "print(label_count)"
   ]
  },
  {
   "cell_type": "code",
   "execution_count": 7,
   "metadata": {},
   "outputs": [
    {
     "name": "stdout",
     "output_type": "stream",
     "text": [
      "Index(['muskmelon', 'coffee', 'mango', 'banana', 'pigeonpeas', 'papaya',\n",
      "       'blackgram', 'rice', 'lentil', 'kidneybeans', 'mungbean', 'chickpea',\n",
      "       'grapes', 'pomegranate', 'orange', 'mothbeans', 'apple', 'watermelon',\n",
      "       'maize', 'jute', 'coconut', 'cotton'],\n",
      "      dtype='object')\n"
     ]
    },
    {
     "data": {
      "text/plain": [
       "muskmelon      100\n",
       "coffee         100\n",
       "mango          100\n",
       "banana         100\n",
       "pigeonpeas     100\n",
       "papaya         100\n",
       "blackgram      100\n",
       "rice           100\n",
       "lentil         100\n",
       "kidneybeans    100\n",
       "mungbean       100\n",
       "chickpea       100\n",
       "grapes         100\n",
       "pomegranate    100\n",
       "orange         100\n",
       "mothbeans      100\n",
       "apple          100\n",
       "watermelon     100\n",
       "maize          100\n",
       "jute           100\n",
       "coconut        100\n",
       "cotton         100\n",
       "Name: label, dtype: int64"
      ]
     },
     "execution_count": 7,
     "metadata": {},
     "output_type": "execute_result"
    }
   ],
   "source": [
    "label_count = dataset['label'].value_counts()\n",
    "print(label_count.index)\n",
    "label_count"
   ]
  },
  {
   "cell_type": "code",
   "execution_count": 8,
   "metadata": {},
   "outputs": [
    {
     "data": {
      "image/png": "[encoded data removed]",
      "text/plain": [
       "<Figure size 720x720 with 1 Axes>"
      ]
     },
     "metadata": {},
     "output_type": "display_data"
    }
   ],
   "source": [
    "# Draw a pie chart with the values above\n",
    "plt.figure(figsize=(10, 10))\n",
    "plt.pie(label_count, labels=label_count.index, autopct='%1.1f%%')\n",
    "plt.title('Crops Count in Dataset')\n",
    "plt.axis('equal')\n",
    "plt.show()"
   ]
  },
  {
   "cell_type": "code",
   "execution_count": 9,
   "metadata": {},
   "outputs": [],
   "source": [
    "# # Exploratory data analysis with pandas profiling\n",
    "# import pandas_profiling\n",
    "\n",
    "# profile = dataset.profile_report(title='Crop Profiling Report')\n",
    "# profile"
   ]
  },
  {
   "cell_type": "code",
   "execution_count": 10,
   "metadata": {},
   "outputs": [
    {
     "name": "stdout",
     "output_type": "stream",
     "text": [
      "[[ 90.          42.          43.         ...  82.00274423   6.50298529\n",
      "  202.9355362 ]\n",
      " [ 85.          58.          41.         ...  80.31964408   7.03809636\n",
      "  226.6555374 ]\n",
      " [ 60.          55.          44.         ...  82.3207629    7.84020714\n",
      "  263.9642476 ]\n",
      " ...\n",
      " [118.          33.          30.         ...  67.22512329   6.36260785\n",
      "  173.3228386 ]\n",
      " [117.          32.          34.         ...  52.12739421   6.75879255\n",
      "  127.1752928 ]\n",
      " [104.          18.          30.         ...  60.39647474   6.77983261\n",
      "  140.9370415 ]]\n",
      "['rice' 'rice' 'rice' ... 'coffee' 'coffee' 'coffee']\n"
     ]
    }
   ],
   "source": [
    "# Features Extraction\n",
    "X = dataset.iloc[:, :-1].values\n",
    "y = dataset. iloc [:, -1].values\n",
    "print(X)\n",
    "print(y)"
   ]
  },
  {
   "cell_type": "code",
   "execution_count": 11,
   "metadata": {},
   "outputs": [
    {
     "data": {
      "text/plain": [
       "array([20, 20, 20, ...,  5,  5,  5])"
      ]
     },
     "execution_count": 11,
     "metadata": {},
     "output_type": "execute_result"
    }
   ],
   "source": [
    "# label encode the target variable\n",
    "from sklearn.preprocessing import LabelEncoder\n",
    "le = LabelEncoder()\n",
    "y1 = le.fit_transform(y)\n",
    "y1"
   ]
  },
  {
   "cell_type": "code",
   "execution_count": 78,
   "metadata": {},
   "outputs": [
    {
     "name": "stdout",
     "output_type": "stream",
     "text": [
      "{0: 'apple', 1: 'banana', 2: 'blackgram', 3: 'chickpea', 4: 'coconut', 5: 'coffee', 6: 'cotton', 7: 'grapes', 8: 'jute', 9: 'kidneybeans', 10: 'lentil', 11: 'maize', 12: 'mango', 13: 'mothbeans', 14: 'mungbean', 15: 'muskmelon', 16: 'orange', 17: 'papaya', 18: 'pigeonpeas', 19: 'pomegranate', 20: 'rice', 21: 'watermelon'}\n"
     ]
    }
   ],
   "source": [
    "# sorting the target variable\n",
    "y_sort = list(np.sort(y))\n",
    "# print(y_sort)\n",
    "\n",
    "labely = {}\n",
    "c = 0\n",
    "for i in y_sort:\n",
    "    if i in list(labely.values()):\n",
    "        continue\n",
    "    else:\n",
    "        labely.update({c:i})\n",
    "        c +=1\n",
    "print(labely)"
   ]
  },
  {
   "cell_type": "code",
   "execution_count": 12,
   "metadata": {},
   "outputs": [],
   "source": [
    "# Split dataset into training and test set\n",
    "from sklearn.model_selection import train_test_split\n",
    "X_train, X_test, y_train, y_test = train_test_split(X, y1, test_size=0.2, random_state=22, stratify=y1)"
   ]
  },
  {
   "cell_type": "code",
   "execution_count": 13,
   "metadata": {},
   "outputs": [
    {
     "name": "stdout",
     "output_type": "stream",
     "text": [
      "[[ 37.           5.          34.         ...  93.84150618   5.77903267\n",
      "  152.4238712 ]\n",
      " [ 50.          55.          16.         ...  65.33538112   7.58144289\n",
      "   62.26242533]\n",
      " [ 16.          73.          19.         ...  34.80541039   4.68407925\n",
      "  163.2747473 ]\n",
      " ...\n",
      " [ 60.          44.          23.         ...  70.04556743   5.72257982\n",
      "   76.72860067]\n",
      " [  5.          74.          21.         ...  21.35793891   5.59170401\n",
      "   66.97053257]\n",
      " [  1.           6.          35.         ...  95.71935435   6.23166277\n",
      "  147.1682459 ]]\n",
      "[ 4  2 18 ... 11  9  4]\n",
      "-------------------\n",
      "[[103.          40.          30.         ...  55.196224     6.34831626\n",
      "  141.4831644 ]\n",
      " [ 91.          36.          45.         ...  82.45432595   5.95064758\n",
      "  267.9761948 ]\n",
      " [ 34.          29.           8.         ...  91.15248149   6.45064031\n",
      "  105.3437825 ]\n",
      " ...\n",
      " [ 39.           9.          15.         ...  91.81183218   7.99204198\n",
      "  116.7555937 ]\n",
      " [  3.          23.          30.         ...  95.65754365   6.07880724\n",
      "  215.1968037 ]\n",
      " [ 91.          35.          39.         ...  80.41817957   6.97085975\n",
      "  206.2611855 ]]\n",
      "[ 5 20 16  8 19 13 15  9 15 16 14 12 20  1 18 15  1 10  5  2  4  4  9  3\n",
      " 10  3  2 19 12  4 14  8  4 21 13  8 16 15 21  2  5 10  7 17 10  8  2  6\n",
      " 10  3 19  0 13  1 19 16 14 14 15 13 19  8 11 10 19  5 18  2 18  2 14 21\n",
      " 12 10  6 13  0  3 21  4 12  1  9  3 21  8  6 15 11 16  1  9 11 16  1 18\n",
      "  4 14  4  0 11  0  9 21  7 16 21 14 11 12  7  2  8 14  2 20  0  3 11 18\n",
      " 16  8 21 19 11 21 13  5 16 10 11  6  0  6  1  9  5 17  1  7  7  9  2 16\n",
      " 11  3 19 15 12  0 15  2  1 21 17  7 10  6 19 21 12 20 11  8 14  5 10 15\n",
      " 18 12  4 15 13 18 20  9  7 10 19 20  0  5  6 13  5 17 11  0 17  9  6  3\n",
      " 13 19  5 13 11  3  2 12 12 14  9  5  4 13  7 14 20 16  1  0  4 12  3  9\n",
      " 21 18 16  2 21  0  9  4  3 18 10  4 13  8  0 12 20 20 10 19  5  2 13  6\n",
      "  4  8 20 17 14 20 11  1  4 10  7  6 18  0  3 18  0 20  7 18 11  0  8  6\n",
      "  1  4  9  1  5  7 12  1  3  0 17  9 15 18 21  9 20 17 15 20  5 21  3 14\n",
      "  6 17 11 16 12  9  6 16 13  0  0  1 20 20 13 10  3 12 13 15 15  4  2 17\n",
      " 17 14 16 19 10  7  1 17  5 17  6 15 19  3  2  8  1  6 20 12 10  1  7  8\n",
      "  9  9 10  3 18 12  2 14  5  7 11  3 19 14 17  9  8  8  6 20 19 13  2 12\n",
      "  8 19 11 18 21  5 12  6 13  6 14 16 11 18  1  3  2 15  5 17 11 15 20 14\n",
      "  8  7 15 21  7  7 18 17  9  5  6 21 21 18 15  6  7  4 13  4 14  5 19 18\n",
      "  2 17 17  7 18  8  1 17 14  0 16 15 17 21  8  7 13 10 12 16  2  4 19 19\n",
      "  0  3 16 11 10 16  4 20]\n"
     ]
    }
   ],
   "source": [
    "print(X_train)\n",
    "print(y_train)\n",
    "print(\"-------------------\")\n",
    "print(X_test)\n",
    "print(y_test)"
   ]
  },
  {
   "cell_type": "code",
   "execution_count": 14,
   "metadata": {},
   "outputs": [
    {
     "data": {
      "text/plain": [
       "1760"
      ]
     },
     "execution_count": 14,
     "metadata": {},
     "output_type": "execute_result"
    }
   ],
   "source": [
    "len(y_train)"
   ]
  },
  {
   "cell_type": "code",
   "execution_count": 15,
   "metadata": {},
   "outputs": [
    {
     "data": {
      "text/plain": [
       "440"
      ]
     },
     "execution_count": 15,
     "metadata": {},
     "output_type": "execute_result"
    }
   ],
   "source": [
    "len(y_test)"
   ]
  },
  {
   "cell_type": "code",
   "execution_count": 34,
   "metadata": {},
   "outputs": [
    {
     "name": "stdout",
     "output_type": "stream",
     "text": [
      "[[-0.36943003 -1.47645357 -0.28054483 ...  1.00536356 -0.90598309\n",
      "   0.89194082]\n",
      " [-0.01741607  0.04317116 -0.63606546 ... -0.27392003  1.43663114\n",
      "  -0.75250599]\n",
      " [-0.93806794  0.59023606 -0.57681202 ... -1.64402875 -2.32910721\n",
      "   1.08984901]\n",
      " ...\n",
      " [ 0.25336389 -0.29114628 -0.49780744 ... -0.06253865 -0.97935553\n",
      "  -0.48865867]\n",
      " [-1.2359259   0.62062855 -0.53730973 ... -2.24751764 -1.14945639\n",
      "  -0.66663523]\n",
      " [-1.34423789 -1.44606107 -0.26079368 ...  1.08963669 -0.31769431\n",
      "   0.79608393]]\n",
      "[[ 1.41771772 -0.41271626 -0.35954942 ... -0.72894004 -0.16607836\n",
      "   0.69239422]\n",
      " [ 1.09278177 -0.53428624 -0.06328222 ...  0.4943354  -0.68293313\n",
      "   2.99948966]\n",
      " [-0.45066401 -0.7470337  -0.79407463 ...  0.88468686 -0.03308657\n",
      "   0.03325116]\n",
      " ...\n",
      " [-0.31527403 -1.35488359 -0.65581661 ...  0.91427687  1.97029172\n",
      "   0.24139019]\n",
      " [-1.29008189 -0.92938867 -0.35954942 ...  1.08686278 -0.51636247\n",
      "   2.03685091]\n",
      " [ 1.09278177 -0.56467873 -0.1817891  ...  0.40295824  0.6430489\n",
      "   1.87387494]]\n"
     ]
    }
   ],
   "source": [
    "# Feature scaling\n",
    "from sklearn.preprocessing import StandardScaler\n",
    "\n",
    "sc = StandardScaler()\n",
    "X_train = sc.fit_transform(X_train)\n",
    "X_test = sc.transform(X_test)\n",
    "print(X_train)\n",
    "print(X_test)"
   ]
  },
  {
   "cell_type": "markdown",
   "metadata": {},
   "source": [
    "# Training with Logistic Regression"
   ]
  },
  {
   "cell_type": "code",
   "execution_count": 44,
   "metadata": {},
   "outputs": [
    {
     "data": {
      "text/plain": [
       "LogisticRegression()"
      ]
     },
     "execution_count": 44,
     "metadata": {},
     "output_type": "execute_result"
    }
   ],
   "source": [
    "# Training ith Logitic Regreion\n",
    "from sklearn.linear_model import LogisticRegression\n",
    "\n",
    "model = LogisticRegression()\n",
    "model.fit(X_train, y_train)"
   ]
  },
  {
   "cell_type": "code",
   "execution_count": 45,
   "metadata": {},
   "outputs": [
    {
     "data": {
      "text/plain": [
       "array([ 5, 20, 16,  8, 19, 13, 15,  9, 15, 16, 14, 12, 20,  1, 18, 15,  1,\n",
       "        2,  5,  2,  4,  4,  9,  3, 10,  3,  2, 19, 12,  4, 14,  8,  4, 21,\n",
       "       13,  8, 16, 15, 21,  2,  5, 13,  7, 17, 10,  8,  2,  6, 10,  3, 19,\n",
       "        0, 13,  1, 19, 16, 14, 14, 15, 13, 19,  8, 11, 10, 19,  5, 18,  2,\n",
       "       18,  2, 14, 21, 12, 10,  6, 13,  0,  3, 21,  4, 12,  1,  9,  3, 21,\n",
       "        8,  6, 15, 11, 16,  1,  9, 11, 16,  1, 18,  4, 14,  4,  0, 11,  0,\n",
       "        9, 21,  7, 16, 21, 14, 11, 12,  7,  2,  8, 14,  2, 20,  0,  3, 11,\n",
       "       18, 16,  8, 21, 19, 11, 21, 12,  5, 16, 10, 11,  6,  0,  6,  1,  9,\n",
       "        5, 17,  1,  7,  7,  9, 10, 16, 11,  3, 19, 15, 12,  0, 15,  2,  1,\n",
       "       21, 17,  7, 10,  6, 19, 21, 12, 20, 11, 17, 14,  5, 10, 15, 18, 12,\n",
       "        4, 15, 13, 18, 20,  9,  7, 10, 19,  8,  0,  5,  6, 13,  5, 17, 11,\n",
       "        0, 17,  9,  6,  3, 13, 19,  5, 13, 11,  3,  2, 12, 12, 14,  9,  5,\n",
       "        4, 13,  7, 14, 20, 16,  1,  0,  4, 12,  3,  9, 21, 18, 16,  2, 21,\n",
       "        0,  9,  4,  3, 18, 10,  4, 13,  8,  0, 12, 20,  8, 10, 19,  5,  2,\n",
       "       13,  6,  4,  8, 20, 17, 14, 20, 11,  1,  4, 10,  7, 11, 18,  0,  3,\n",
       "       18,  0, 20,  7, 18, 11,  0,  8,  6,  1,  4,  9,  1,  5,  7, 12,  1,\n",
       "        3,  0, 17,  9, 15, 18, 21,  9, 20, 17, 15, 20,  5, 21,  3, 14,  6,\n",
       "       17, 11, 16, 12,  9,  6, 16, 13,  0,  0,  1, 20, 20, 13, 10,  3, 12,\n",
       "       18, 15, 15,  4,  2, 17, 17, 14, 16, 19, 10,  7,  1, 17,  5, 14,  6,\n",
       "       15, 19,  3,  2,  8,  1,  6, 20, 12, 10,  1,  7,  8,  9,  9, 10,  3,\n",
       "       18, 12,  2, 14,  5,  7, 11,  3, 19, 14, 17, 18, 20,  8,  6, 20, 19,\n",
       "       13,  2, 12,  8, 19, 11, 18, 21,  5, 12,  6, 13,  6, 14, 16, 11,  2,\n",
       "        1,  3,  2, 15,  5, 17, 11, 15, 20, 14,  8,  7, 15, 21,  7,  7,  9,\n",
       "       17,  9,  5,  6, 21, 21, 18, 15,  6,  7,  4, 13,  4, 14,  5, 19, 18,\n",
       "        2,  8, 17,  7, 18,  8,  1, 20, 14,  0, 16, 15, 17, 21,  8,  7, 13,\n",
       "       10, 12, 16,  2,  4, 19, 19,  0,  3, 16, 11, 10, 16,  4, 20])"
      ]
     },
     "execution_count": 45,
     "metadata": {},
     "output_type": "execute_result"
    }
   ],
   "source": [
    "y_pred = model.predict(X_test)\n",
    "y_pred"
   ]
  },
  {
   "cell_type": "code",
   "execution_count": null,
   "metadata": {},
   "outputs": [],
   "source": [
    "# creating confuion matrix\n",
    "cm = confusion_matrix(y_test, y_pred)\n",
    "print(cm)"
   ]
  },
  {
   "cell_type": "code",
   "execution_count": 46,
   "metadata": {},
   "outputs": [
    {
     "name": "stdout",
     "output_type": "stream",
     "text": [
      "Accuracy score 0.9636363636363636\n",
      "              precision    recall  f1-score   support\n",
      "\n",
      "           0       1.00      1.00      1.00        20\n",
      "           1       1.00      1.00      1.00        20\n",
      "           2       0.90      0.95      0.93        20\n",
      "           3       1.00      1.00      1.00        20\n",
      "           4       1.00      1.00      1.00        20\n",
      "           5       1.00      1.00      1.00        20\n",
      "           6       1.00      0.95      0.97        20\n",
      "           7       1.00      1.00      1.00        20\n",
      "           8       0.86      0.90      0.88        20\n",
      "           9       0.95      0.95      0.95        20\n",
      "          10       0.95      0.90      0.92        20\n",
      "          11       0.95      1.00      0.98        20\n",
      "          12       0.95      1.00      0.98        20\n",
      "          13       0.95      0.90      0.92        20\n",
      "          14       0.95      1.00      0.98        20\n",
      "          15       1.00      1.00      1.00        20\n",
      "          16       1.00      1.00      1.00        20\n",
      "          17       0.94      0.85      0.89        20\n",
      "          18       0.90      0.90      0.90        20\n",
      "          19       1.00      1.00      1.00        20\n",
      "          20       0.90      0.90      0.90        20\n",
      "          21       1.00      1.00      1.00        20\n",
      "\n",
      "    accuracy                           0.96       440\n",
      "   macro avg       0.96      0.96      0.96       440\n",
      "weighted avg       0.96      0.96      0.96       440\n",
      "\n"
     ]
    }
   ],
   "source": [
    "from sklearn.metrics import confusion_matrix, accuracy_score, precision_score, recall_score\n",
    "from sklearn.metrics import classification_report\n",
    "\n",
    "acc = accuracy_score(y_test, y_pred)\n",
    "# recall = recall_score(y_test, y_pred)\n",
    "# precision = precision_score(y_test, y_pred)\n",
    "\n",
    "print(\"Accuracy score\", acc)\n",
    "# print(\"Precision score\", precision)\n",
    "# print(\"Recall score\", recall)\n",
    "print(classification_report(y_test, y_pred))"
   ]
  },
  {
   "cell_type": "markdown",
   "metadata": {},
   "source": [
    "# Training with SVM linear kernel"
   ]
  },
  {
   "cell_type": "code",
   "execution_count": 47,
   "metadata": {},
   "outputs": [
    {
     "data": {
      "text/plain": [
       "SVC(kernel='linear')"
      ]
     },
     "execution_count": 47,
     "metadata": {},
     "output_type": "execute_result"
    }
   ],
   "source": [
    "# Training ith upport Vector Machine\n",
    "from sklearn.svm import SVC\n",
    "model1 = SVC(kernel='linear')\n",
    "model1.fit(X_train, y_train)"
   ]
  },
  {
   "cell_type": "code",
   "execution_count": 48,
   "metadata": {},
   "outputs": [
    {
     "data": {
      "text/plain": [
       "array([ 5, 20, 16,  8, 19, 13, 15,  9, 15, 16, 14, 12, 20,  1, 18, 15,  1,\n",
       "       10,  5,  2,  4,  4,  9,  3, 10,  3,  2, 19, 12,  4, 14,  8,  4, 21,\n",
       "       13,  8, 16, 15, 21,  2,  5, 10,  7, 17, 10,  8,  2,  6, 10,  3, 19,\n",
       "        0, 13,  1, 19, 16, 14, 14, 15, 13, 19,  8, 11, 10, 19,  5, 18,  2,\n",
       "       18,  2, 14, 21, 12, 10,  6, 13,  0,  3, 21,  4, 12,  1,  9,  3, 21,\n",
       "        8,  6, 15, 11, 16,  1,  9, 11, 16,  1, 18,  4, 14,  4,  0, 11,  0,\n",
       "        9, 21,  7, 16, 21, 14, 11, 12,  7,  2,  8, 14,  2, 20,  0,  3, 11,\n",
       "       18, 16,  8, 21, 19, 11, 21, 13,  5, 16, 10, 11,  6,  0,  6,  1,  9,\n",
       "        5, 17,  1,  7,  7,  9, 10, 16, 11,  3, 19, 15, 12,  0, 15,  2,  1,\n",
       "       21, 17,  7, 10,  6, 19, 21, 12, 20, 11,  8, 14,  5, 10, 15, 18, 12,\n",
       "        4, 15, 13, 18, 20,  9,  7, 10, 19,  8,  0,  5,  6, 13,  5, 17, 11,\n",
       "        0, 17,  9,  6,  3, 13, 19,  5, 13, 11,  3,  2, 12, 12, 14,  9,  5,\n",
       "        4, 13,  7, 14, 20, 16,  1,  0,  4, 12,  3,  9, 21, 18, 16,  2, 21,\n",
       "        0,  9,  4,  3, 18, 10,  4, 13,  8,  0, 12, 20,  8, 10, 19,  5,  2,\n",
       "       13,  6,  4,  8, 20, 17, 14, 20, 11,  1,  4, 10,  7,  6, 18,  0,  3,\n",
       "       18,  0, 20,  7, 18, 11,  0,  8,  6,  1,  4,  9,  1,  5,  7, 12,  1,\n",
       "        3,  0, 17,  9, 15, 18, 21,  9, 20, 17, 15, 20,  5, 21,  3, 14,  6,\n",
       "       17, 11, 16, 12,  9,  6, 16, 13,  0,  0,  1, 20, 20, 13, 10,  3, 12,\n",
       "       12, 15, 15,  4,  2, 17, 17, 14, 16, 19, 10,  7,  1, 17,  5, 17,  6,\n",
       "       15, 19,  3,  2,  8,  1,  6, 20, 12, 10,  1,  7,  8,  9,  9, 10,  3,\n",
       "       18, 12,  2, 14,  5,  7, 11,  3, 19, 14, 17,  9, 20,  8,  6, 20, 19,\n",
       "       13,  2, 12,  8, 19, 11, 18, 21,  5, 12,  6, 13,  6, 14, 16, 11, 18,\n",
       "        1,  3,  2, 15,  5, 17, 11, 15, 20, 14,  8,  7, 15, 21,  7,  7,  9,\n",
       "       17,  9,  5,  6, 21, 21, 18, 15,  6,  7,  4, 13,  4, 14,  5, 19, 18,\n",
       "        2, 17, 17,  7, 18,  8,  1, 17, 14,  0, 16, 15, 17, 21,  8,  7, 13,\n",
       "       10, 12, 16,  2,  4, 19, 19,  0,  3, 16, 11, 10, 16,  4, 20])"
      ]
     },
     "execution_count": 48,
     "metadata": {},
     "output_type": "execute_result"
    }
   ],
   "source": [
    "y_pred = model1.predict(X_test)\n",
    "y_pred"
   ]
  },
  {
   "cell_type": "code",
   "execution_count": 41,
   "metadata": {},
   "outputs": [
    {
     "name": "stdout",
     "output_type": "stream",
     "text": [
      "[[20  0  0  0  0  0  0  0  0  0  0  0  0  0  0  0  0  0  0  0  0  0]\n",
      " [ 0 20  0  0  0  0  0  0  0  0  0  0  0  0  0  0  0  0  0  0  0  0]\n",
      " [ 0  0 19  0  0  0  0  0  0  0  1  0  0  0  0  0  0  0  0  0  0  0]\n",
      " [ 0  0  0 20  0  0  0  0  0  0  0  0  0  0  0  0  0  0  0  0  0  0]\n",
      " [ 0  0  0  0 20  0  0  0  0  0  0  0  0  0  0  0  0  0  0  0  0  0]\n",
      " [ 0  0  0  0  0 20  0  0  0  0  0  0  0  0  0  0  0  0  0  0  0  0]\n",
      " [ 0  0  0  0  0  0 20  0  0  0  0  0  0  0  0  0  0  0  0  0  0  0]\n",
      " [ 0  0  0  0  0  0  0 20  0  0  0  0  0  0  0  0  0  0  0  0  0  0]\n",
      " [ 0  0  0  0  0  0  0  0 19  0  0  0  0  0  0  0  0  0  0  0  1  0]\n",
      " [ 0  0  0  0  0  0  0  0  0 20  0  0  0  0  0  0  0  0  0  0  0  0]\n",
      " [ 0  0  0  0  0  0  0  0  0  0 20  0  0  0  0  0  0  0  0  0  0  0]\n",
      " [ 0  0  0  0  0  0  0  0  0  0  0 20  0  0  0  0  0  0  0  0  0  0]\n",
      " [ 0  0  0  0  0  0  0  0  0  0  0  0 20  0  0  0  0  0  0  0  0  0]\n",
      " [ 0  0  0  0  0  0  0  0  0  0  0  0  1 19  0  0  0  0  0  0  0  0]\n",
      " [ 0  0  0  0  0  0  0  0  0  0  0  0  0  0 20  0  0  0  0  0  0  0]\n",
      " [ 0  0  0  0  0  0  0  0  0  0  0  0  0  0  0 20  0  0  0  0  0  0]\n",
      " [ 0  0  0  0  0  0  0  0  0  0  0  0  0  0  0  0 20  0  0  0  0  0]\n",
      " [ 0  0  0  0  0  0  0  0  0  0  0  0  0  0  0  0  0 20  0  0  0  0]\n",
      " [ 0  0  0  0  0  0  0  0  0  1  0  0  0  0  0  0  0  0 19  0  0  0]\n",
      " [ 0  0  0  0  0  0  0  0  0  0  0  0  0  0  0  0  0  0  0 20  0  0]\n",
      " [ 0  0  0  0  0  0  0  0  2  0  0  0  0  0  0  0  0  0  0  0 18  0]\n",
      " [ 0  0  0  0  0  0  0  0  0  0  0  0  0  0  0  0  0  0  0  0  0 20]]\n"
     ]
    }
   ],
   "source": [
    "# creating confuion matrix\n",
    "cm = confusion_matrix(y_test, y_pred)\n",
    "print(cm)"
   ]
  },
  {
   "cell_type": "code",
   "execution_count": 42,
   "metadata": {},
   "outputs": [
    {
     "name": "stdout",
     "output_type": "stream",
     "text": [
      "Accuracy score 0.9863636363636363\n",
      "              precision    recall  f1-score   support\n",
      "\n",
      "           0       1.00      1.00      1.00        20\n",
      "           1       1.00      1.00      1.00        20\n",
      "           2       1.00      0.95      0.97        20\n",
      "           3       1.00      1.00      1.00        20\n",
      "           4       1.00      1.00      1.00        20\n",
      "           5       1.00      1.00      1.00        20\n",
      "           6       1.00      1.00      1.00        20\n",
      "           7       1.00      1.00      1.00        20\n",
      "           8       0.90      0.95      0.93        20\n",
      "           9       0.95      1.00      0.98        20\n",
      "          10       0.95      1.00      0.98        20\n",
      "          11       1.00      1.00      1.00        20\n",
      "          12       0.95      1.00      0.98        20\n",
      "          13       1.00      0.95      0.97        20\n",
      "          14       1.00      1.00      1.00        20\n",
      "          15       1.00      1.00      1.00        20\n",
      "          16       1.00      1.00      1.00        20\n",
      "          17       1.00      1.00      1.00        20\n",
      "          18       1.00      0.95      0.97        20\n",
      "          19       1.00      1.00      1.00        20\n",
      "          20       0.95      0.90      0.92        20\n",
      "          21       1.00      1.00      1.00        20\n",
      "\n",
      "    accuracy                           0.99       440\n",
      "   macro avg       0.99      0.99      0.99       440\n",
      "weighted avg       0.99      0.99      0.99       440\n",
      "\n"
     ]
    }
   ],
   "source": [
    "acc = accuracy_score(y_test, y_pred)\n",
    "# recall = recall_score(y_test, y_pred)\n",
    "# precision = precision_score(y_test, y_pred)\n",
    "\n",
    "print(\"Accuracy score\", acc)\n",
    "# print(\"Precision score\", precision)\n",
    "# print(\"Recall score\", recall)\n",
    "print(classification_report(y_test, y_pred))"
   ]
  },
  {
   "cell_type": "markdown",
   "metadata": {},
   "source": [
    "# Training with SVM rbf kernel"
   ]
  },
  {
   "cell_type": "code",
   "execution_count": 49,
   "metadata": {},
   "outputs": [
    {
     "data": {
      "text/plain": [
       "SVC()"
      ]
     },
     "execution_count": 49,
     "metadata": {},
     "output_type": "execute_result"
    }
   ],
   "source": [
    "# Training with upport Vector Machine\n",
    "from sklearn.svm import SVC\n",
    "model2 = SVC(kernel='rbf')\n",
    "model2.fit(X_train, y_train)"
   ]
  },
  {
   "cell_type": "code",
   "execution_count": 50,
   "metadata": {},
   "outputs": [
    {
     "name": "stdout",
     "output_type": "stream",
     "text": [
      "[ 5 20 16  8 19 13 15  9 15 16 14 12  8  1 18 15  1  2  5  2  4  4  9  3\n",
      " 10  3  2 19 12  4 14  8  4 21 13  8 16 15 21  2  5 10  7 17 10  8  2  6\n",
      " 10  3 19  0 13  1 19 16 14 14 15 13 19  8 11 10 19  5 18  2 18  2 14 21\n",
      " 12 10  6 13  0  3 21  4 12  1  9  3 21  8  6 15 11 16  1  9 11 16  1 18\n",
      "  4 14  4  0 11  0  9 21  7 16 21 14 11 12  7  2  8 14  2 20  0  3 11 18\n",
      " 16  8 21 19 11 21 13  5 16 10 11  6  0  6  1  9  5 17  1  7  7  9 10 16\n",
      " 11  3 19 15 12  0 15  2  1 21 17  7 10  6 19 21 12 20 11  8 14  5 10 15\n",
      " 18 12  4 15 13 18 20  9  7 10 19  8  0  5  6 13  5 17 11  0 17  9  6  3\n",
      " 13 19  5 13 11  3  2 12 12 14  9  5  4 13  7 14 20 16  1  0  4 12  3  9\n",
      " 21 18 16  2 21  0  9  4  3 18 10  4 13  8  0 12 20  8 10 19  5  2 13  6\n",
      "  4  8 20 17 14 20 11  1  4 10  7  6 18  0  3 18  0 20  7 18 11  0  8  6\n",
      "  1  4  9  1  5  7 12  1  3  0 17  9 15 18 21  9 20 17 15 20  5 21  3 14\n",
      "  6 17 11 16 12  9  6 16 13  0  0  1 20 20 13 10  3 12 13 15 15  4  2 17\n",
      " 17 14 16 19 10  7  1 17  5 17  6 15 19  3  2  8  1  6 20 12 10  1  7  8\n",
      "  9  9 10  3 18 12  2 14  5  7 11  3 19 14 17  9  8  8  6 20 19 13  2 12\n",
      "  8 19 11 18 21  5 12  6 13  6 14 16 11  2  1  3  2 15  5 17 11 15 20 14\n",
      "  8  7 15 21  7  7 18 17  9  5  6 21 21 18 15  6  7  4 13  4 14  5 19 18\n",
      "  2  8 17  7 18  8  1 17 14  0 16 15 17 21  8  7 13 10 12 16  2  4 19 19\n",
      "  0  3 16 11 10 16  4 20]\n"
     ]
    }
   ],
   "source": [
    "y_pred = model2.predict(X_test)\n",
    "print(y_pred)"
   ]
  },
  {
   "cell_type": "code",
   "execution_count": 51,
   "metadata": {},
   "outputs": [
    {
     "name": "stdout",
     "output_type": "stream",
     "text": [
      "[[20  0  0  0  0  0  0  0  0  0  0  0  0  0  0  0  0  0  0  0  0  0]\n",
      " [ 0 20  0  0  0  0  0  0  0  0  0  0  0  0  0  0  0  0  0  0  0  0]\n",
      " [ 0  0 19  0  0  0  0  0  0  0  1  0  0  0  0  0  0  0  0  0  0  0]\n",
      " [ 0  0  0 20  0  0  0  0  0  0  0  0  0  0  0  0  0  0  0  0  0  0]\n",
      " [ 0  0  0  0 20  0  0  0  0  0  0  0  0  0  0  0  0  0  0  0  0  0]\n",
      " [ 0  0  0  0  0 20  0  0  0  0  0  0  0  0  0  0  0  0  0  0  0  0]\n",
      " [ 0  0  0  0  0  0 20  0  0  0  0  0  0  0  0  0  0  0  0  0  0  0]\n",
      " [ 0  0  0  0  0  0  0 20  0  0  0  0  0  0  0  0  0  0  0  0  0  0]\n",
      " [ 0  0  0  0  0  0  0  0 20  0  0  0  0  0  0  0  0  0  0  0  0  0]\n",
      " [ 0  0  0  0  0  0  0  0  0 20  0  0  0  0  0  0  0  0  0  0  0  0]\n",
      " [ 0  0  1  0  0  0  0  0  0  0 19  0  0  0  0  0  0  0  0  0  0  0]\n",
      " [ 0  0  0  0  0  0  0  0  0  0  0 20  0  0  0  0  0  0  0  0  0  0]\n",
      " [ 0  0  0  0  0  0  0  0  0  0  0  0 20  0  0  0  0  0  0  0  0  0]\n",
      " [ 0  0  0  0  0  0  0  0  0  0  0  0  0 20  0  0  0  0  0  0  0  0]\n",
      " [ 0  0  0  0  0  0  0  0  0  0  0  0  0  0 20  0  0  0  0  0  0  0]\n",
      " [ 0  0  0  0  0  0  0  0  0  0  0  0  0  0  0 20  0  0  0  0  0  0]\n",
      " [ 0  0  0  0  0  0  0  0  0  0  0  0  0  0  0  0 20  0  0  0  0  0]\n",
      " [ 0  0  0  0  0  0  0  0  1  0  0  0  0  0  0  0  0 19  0  0  0  0]\n",
      " [ 0  0  1  0  0  0  0  0  0  0  0  0  0  0  0  0  0  0 19  0  0  0]\n",
      " [ 0  0  0  0  0  0  0  0  0  0  0  0  0  0  0  0  0  0  0 20  0  0]\n",
      " [ 0  0  0  0  0  0  0  0  3  0  0  0  0  0  0  0  0  0  0  0 17  0]\n",
      " [ 0  0  0  0  0  0  0  0  0  0  0  0  0  0  0  0  0  0  0  0  0 20]]\n"
     ]
    }
   ],
   "source": [
    "# creating confuion matrix\n",
    "cm = confusion_matrix(y_test, y_pred)\n",
    "print(cm)"
   ]
  },
  {
   "cell_type": "code",
   "execution_count": 52,
   "metadata": {},
   "outputs": [
    {
     "name": "stdout",
     "output_type": "stream",
     "text": [
      "Accuracy score 0.9840909090909091\n",
      "              precision    recall  f1-score   support\n",
      "\n",
      "           0       1.00      1.00      1.00        20\n",
      "           1       1.00      1.00      1.00        20\n",
      "           2       0.90      0.95      0.93        20\n",
      "           3       1.00      1.00      1.00        20\n",
      "           4       1.00      1.00      1.00        20\n",
      "           5       1.00      1.00      1.00        20\n",
      "           6       1.00      1.00      1.00        20\n",
      "           7       1.00      1.00      1.00        20\n",
      "           8       0.83      1.00      0.91        20\n",
      "           9       1.00      1.00      1.00        20\n",
      "          10       0.95      0.95      0.95        20\n",
      "          11       1.00      1.00      1.00        20\n",
      "          12       1.00      1.00      1.00        20\n",
      "          13       1.00      1.00      1.00        20\n",
      "          14       1.00      1.00      1.00        20\n",
      "          15       1.00      1.00      1.00        20\n",
      "          16       1.00      1.00      1.00        20\n",
      "          17       1.00      0.95      0.97        20\n",
      "          18       1.00      0.95      0.97        20\n",
      "          19       1.00      1.00      1.00        20\n",
      "          20       1.00      0.85      0.92        20\n",
      "          21       1.00      1.00      1.00        20\n",
      "\n",
      "    accuracy                           0.98       440\n",
      "   macro avg       0.99      0.98      0.98       440\n",
      "weighted avg       0.99      0.98      0.98       440\n",
      "\n"
     ]
    }
   ],
   "source": [
    "acc = accuracy_score(y_test, y_pred)\n",
    "# recall = recall_score(y_test, y_pred)\n",
    "# precision = precision_score(y_test, y_pred)\n",
    "\n",
    "print(\"Accuracy score\", acc)\n",
    "# print(\"Precision score\", precision)\n",
    "# print(\"Recall score\", recall)\n",
    "print(classification_report(y_test, y_pred))"
   ]
  },
  {
   "cell_type": "markdown",
   "metadata": {},
   "source": [
    "# Training with SVM sigmoid kernel"
   ]
  },
  {
   "cell_type": "code",
   "execution_count": 53,
   "metadata": {},
   "outputs": [
    {
     "data": {
      "text/plain": [
       "SVC(kernel='sigmoid')"
      ]
     },
     "execution_count": 53,
     "metadata": {},
     "output_type": "execute_result"
    }
   ],
   "source": [
    "# Training with upport Vector Machine\n",
    "from sklearn.svm import SVC\n",
    "model3 = SVC(kernel='sigmoid')\n",
    "model3.fit(X_train, y_train)"
   ]
  },
  {
   "cell_type": "code",
   "execution_count": 54,
   "metadata": {},
   "outputs": [
    {
     "name": "stdout",
     "output_type": "stream",
     "text": [
      "[ 5 20 16  8 19 13 15  9 15 16 13 12 20  1 18 15  1  2  5  2  4  4  9  3\n",
      " 10  3  2 19 12  4 13 20  4 21  2  8 19 15 21  2  5 13  0 17 10 20  2  6\n",
      " 10  3 19  7 12  1 19 19 14 14 15  2 19 20 11 10 19  5 18  2 13 13 14 21\n",
      " 12 10  6 13  0  3 21  4 12  1  9  3 21  8  6 15 11 19  1  9 11 16  1 18\n",
      "  4 14  4  0 11  0  9 21  7 19 21 14 11 12  0  2  8 13 13 20  0  3 11 18\n",
      " 16 20 21 19 11 21 12  5 16 13 11  6  0  6  1  9  5 17  1  0  0  9 13 16\n",
      " 11  3 19 15 12  0 15 13  1 21 17  0 10  6 16 21 12  8 11 17 14  5 10 15\n",
      "  9 12  4 15 13 18 20  9  7 10 19  8  0  5  6  2  5 17 11  0 17  9  6  3\n",
      "  2 19  5 10 11  3  2 12 12 13  9  5  4 12  0 14 20 19  1  0  4 13  3  9\n",
      " 21 18  4  2 21  7  9  4  3 18 10  4 13 20  0 13 20  8 13 19  5  2  2  6\n",
      "  4  8 20 17 14 20 11  1  4 13  7  6 18  0  3 18  7 20  7  2 11  0  8  6\n",
      "  1  4  9  1  5  0 12  1  3  0 17  9 15 18 21  9 20 17 15 20  5 21  3 14\n",
      "  6 17 11 19 12  9  6 16  2  0  0  1  8 20 13 13  3 12 12 15 15  4  2 17\n",
      " 17 14 19 19 10  0  1 17  5 17  6 15 19  3  2  8  1  6 20 12 10  1  0  8\n",
      "  9  9 13  3 18 12  2 14  5  7 11  3 19 14 17 18 20  8  6 20 19 13 13 12\n",
      "  8 19 11 18 21  5 13  6  9  6 14 16 11  2  1  3 13 15  5 17 11 15 20 14\n",
      "  8  7 15 21  0  0  9 17  9  5  6 21 21 18 15  6  7  4 13  4 14  5 16 18\n",
      "  2 20 17  0 18  8  1 20 14  0 16 15 17 21  8  0 10 10 13 19 13 16 19 19\n",
      "  0  3 16 11 10 16  4 20]\n"
     ]
    }
   ],
   "source": [
    "y_pred = model3.predict(X_test)\n",
    "print(y_pred)"
   ]
  },
  {
   "cell_type": "code",
   "execution_count": 55,
   "metadata": {},
   "outputs": [
    {
     "name": "stdout",
     "output_type": "stream",
     "text": [
      "[[17  0  0  0  0  0  0  3  0  0  0  0  0  0  0  0  0  0  0  0  0  0]\n",
      " [ 0 20  0  0  0  0  0  0  0  0  0  0  0  0  0  0  0  0  0  0  0  0]\n",
      " [ 0  0 13  0  0  0  0  0  0  0  0  0  0  7  0  0  0  0  0  0  0  0]\n",
      " [ 0  0  0 20  0  0  0  0  0  0  0  0  0  0  0  0  0  0  0  0  0  0]\n",
      " [ 0  0  0  0 19  0  0  0  0  0  0  0  0  0  0  0  1  0  0  0  0  0]\n",
      " [ 0  0  0  0  0 20  0  0  0  0  0  0  0  0  0  0  0  0  0  0  0  0]\n",
      " [ 0  0  0  0  0  0 20  0  0  0  0  0  0  0  0  0  0  0  0  0  0  0]\n",
      " [13  0  0  0  0  0  0  7  0  0  0  0  0  0  0  0  0  0  0  0  0  0]\n",
      " [ 0  0  0  0  0  0  0  0 13  0  0  0  0  0  0  0  0  1  0  0  6  0]\n",
      " [ 0  0  0  0  0  0  0  0  0 19  0  0  0  0  0  0  0  0  1  0  0  0]\n",
      " [ 0  0  1  0  0  0  0  0  0  0 13  0  0  6  0  0  0  0  0  0  0  0]\n",
      " [ 0  0  0  0  0  0  0  0  0  0  0 20  0  0  0  0  0  0  0  0  0  0]\n",
      " [ 0  0  0  0  0  0  0  0  0  0  0  0 16  4  0  0  0  0  0  0  0  0]\n",
      " [ 0  0  6  0  0  0  0  0  0  1  2  0  4  7  0  0  0  0  0  0  0  0]\n",
      " [ 0  0  0  0  0  0  0  0  0  0  0  0  0  4 16  0  0  0  0  0  0  0]\n",
      " [ 0  0  0  0  0  0  0  0  0  0  0  0  0  0  0 20  0  0  0  0  0  0]\n",
      " [ 0  0  0  0  1  0  0  0  0  0  0  0  0  0  0  0 11  0  0  8  0  0]\n",
      " [ 0  0  0  0  0  0  0  0  0  0  0  0  0  0  0  0  0 18  0  0  2  0]\n",
      " [ 0  0  2  0  0  0  0  0  0  2  0  0  0  1  0  0  0  0 15  0  0  0]\n",
      " [ 0  0  0  0  0  0  0  0  0  0  0  0  0  0  0  0  2  0  0 18  0  0]\n",
      " [ 0  0  0  0  0  0  0  0  4  0  0  0  0  0  0  0  0  0  0  0 16  0]\n",
      " [ 0  0  0  0  0  0  0  0  0  0  0  0  0  0  0  0  0  0  0  0  0 20]]\n"
     ]
    }
   ],
   "source": [
    "# creating confuion matrix\n",
    "cm = confusion_matrix(y_test, y_pred)\n",
    "print(cm)"
   ]
  },
  {
   "cell_type": "code",
   "execution_count": 56,
   "metadata": {},
   "outputs": [
    {
     "name": "stdout",
     "output_type": "stream",
     "text": [
      "Accuracy score 0.8136363636363636\n",
      "              precision    recall  f1-score   support\n",
      "\n",
      "           0       0.57      0.85      0.68        20\n",
      "           1       1.00      1.00      1.00        20\n",
      "           2       0.59      0.65      0.62        20\n",
      "           3       1.00      1.00      1.00        20\n",
      "           4       0.95      0.95      0.95        20\n",
      "           5       1.00      1.00      1.00        20\n",
      "           6       1.00      1.00      1.00        20\n",
      "           7       0.70      0.35      0.47        20\n",
      "           8       0.76      0.65      0.70        20\n",
      "           9       0.86      0.95      0.90        20\n",
      "          10       0.87      0.65      0.74        20\n",
      "          11       1.00      1.00      1.00        20\n",
      "          12       0.80      0.80      0.80        20\n",
      "          13       0.24      0.35      0.29        20\n",
      "          14       1.00      0.80      0.89        20\n",
      "          15       1.00      1.00      1.00        20\n",
      "          16       0.79      0.55      0.65        20\n",
      "          17       0.95      0.90      0.92        20\n",
      "          18       0.94      0.75      0.83        20\n",
      "          19       0.69      0.90      0.78        20\n",
      "          20       0.67      0.80      0.73        20\n",
      "          21       1.00      1.00      1.00        20\n",
      "\n",
      "    accuracy                           0.81       440\n",
      "   macro avg       0.84      0.81      0.82       440\n",
      "weighted avg       0.84      0.81      0.82       440\n",
      "\n"
     ]
    }
   ],
   "source": [
    "acc = accuracy_score(y_test, y_pred)\n",
    "# recall = recall_score(y_test, y_pred)\n",
    "# precision = precision_score(y_test, y_pred)\n",
    "\n",
    "print(\"Accuracy score\", acc)\n",
    "# print(\"Precision score\", precision)\n",
    "# print(\"Recall score\", recall)\n",
    "print(classification_report(y_test, y_pred))"
   ]
  },
  {
   "cell_type": "markdown",
   "metadata": {},
   "source": [
    "# Training with KNN"
   ]
  },
  {
   "cell_type": "code",
   "execution_count": 58,
   "metadata": {},
   "outputs": [
    {
     "data": {
      "text/plain": [
       "KNeighborsClassifier(n_neighbors=7)"
      ]
     },
     "execution_count": 58,
     "metadata": {},
     "output_type": "execute_result"
    }
   ],
   "source": [
    "from sklearn.neighbors import KNeighborsClassifier\n",
    "model4 = KNeighborsClassifier(n_neighbors=7)\n",
    "model4.fit(X_train, y_train)"
   ]
  },
  {
   "cell_type": "code",
   "execution_count": 60,
   "metadata": {},
   "outputs": [
    {
     "data": {
      "text/plain": [
       "0.975"
      ]
     },
     "execution_count": 60,
     "metadata": {},
     "output_type": "execute_result"
    }
   ],
   "source": [
    "# accuracy on X_test\n",
    "accuracy = model4.score(X_test, y_test)\n",
    "accuracy"
   ]
  },
  {
   "cell_type": "code",
   "execution_count": 61,
   "metadata": {},
   "outputs": [
    {
     "name": "stdout",
     "output_type": "stream",
     "text": [
      "[ 5 20 16  8 19 13 15  9 15 16 14 12 20  1 18 15  1  2  5  2  4  4  9  3\n",
      " 10  3  2 19 12  4 14  8  4 21 13  8 16 15 21  2  5 10  7 17 10  8  2  6\n",
      " 10  3 19  0 13  1 19 16 14 14 15 13 19  8 11 10 19  5 18  2 18  2 14 21\n",
      " 12 10  6  2  0  3 21  4 12  1  9  3 21  8  6 15 11 16  1  9 11 16  1 18\n",
      "  4 14  4  0 11  0  9 21  7 16 21 14 11 12  7  2  8 14  2 20  0  3 11 18\n",
      " 16  8 21 19 11 21 13  5 16 10 11  6  0  6  1  9  5 17  1  7  7  9 10 19\n",
      " 11  3 19 15 12  0 15  2  1 21 17  7 10  6 19 21 12 20 11  8 14  5 10 15\n",
      " 18 12  4 15 13 18 20  9  7 10 19  8  0  5  6 13  5 17 11  0 17  9  6  3\n",
      " 13 19  5 13 11  3  2 12 12 14  9  5  4 13  7 14 20 16  1  0  4 12  3  9\n",
      " 21 18 16  2 21  0  9  4  3 18 10  4 13  8  0 12 20  8 10 19  5  2 13  6\n",
      "  4  8 20 17 14 20 11  1  4 10  7  6 18  0  3 18  0 20  7 10 11  0  8  6\n",
      "  1  4  9  1  5  7 12  1  3  0 17  9 15 18 21  9 20 17 15 20  5 21  3 14\n",
      "  6 17 11 16 12  9  6 16 13  0  0  1 20 20 13 10  3 12 13 15 15  4  2 17\n",
      " 17 14 16 19 10  7  1 17  5 17  6 15 19  3  2  8  1  6 20 12 10  1  7  8\n",
      "  9  9 10  3 18 12  2 14  5  7 11  3 19 14 17  9  8  8  6 20 19 13  2 12\n",
      "  8 19 11 18 21  5 12  6 13  6 14 16 11  2  1  3  2 15  5 17 11 15 20 14\n",
      "  8  7 15 21  7  7 18 17  9  5  6 21 21 18 15  6  7  4 13  4 14  5 19 12\n",
      "  2  8 17  7 18  8  1 17 14  0 16 15 17 21  8  7 13 10 12 16  2  4 19 19\n",
      "  0  3 16 11 10 16  4  8]\n"
     ]
    }
   ],
   "source": [
    "y_pred = model4.predict(X_test)\n",
    "print(y_pred)"
   ]
  },
  {
   "cell_type": "code",
   "execution_count": 62,
   "metadata": {},
   "outputs": [
    {
     "name": "stdout",
     "output_type": "stream",
     "text": [
      "[[20  0  0  0  0  0  0  0  0  0  0  0  0  0  0  0  0  0  0  0  0  0]\n",
      " [ 0 20  0  0  0  0  0  0  0  0  0  0  0  0  0  0  0  0  0  0  0  0]\n",
      " [ 0  0 19  0  0  0  0  0  0  0  1  0  0  0  0  0  0  0  0  0  0  0]\n",
      " [ 0  0  0 20  0  0  0  0  0  0  0  0  0  0  0  0  0  0  0  0  0  0]\n",
      " [ 0  0  0  0 20  0  0  0  0  0  0  0  0  0  0  0  0  0  0  0  0  0]\n",
      " [ 0  0  0  0  0 20  0  0  0  0  0  0  0  0  0  0  0  0  0  0  0  0]\n",
      " [ 0  0  0  0  0  0 20  0  0  0  0  0  0  0  0  0  0  0  0  0  0  0]\n",
      " [ 0  0  0  0  0  0  0 20  0  0  0  0  0  0  0  0  0  0  0  0  0  0]\n",
      " [ 0  0  0  0  0  0  0  0 20  0  0  0  0  0  0  0  0  0  0  0  0  0]\n",
      " [ 0  0  0  0  0  0  0  0  0 20  0  0  0  0  0  0  0  0  0  0  0  0]\n",
      " [ 0  0  1  0  0  0  0  0  0  0 19  0  0  0  0  0  0  0  0  0  0  0]\n",
      " [ 0  0  0  0  0  0  0  0  0  0  0 20  0  0  0  0  0  0  0  0  0  0]\n",
      " [ 0  0  0  0  0  0  0  0  0  0  0  0 20  0  0  0  0  0  0  0  0  0]\n",
      " [ 0  0  1  0  0  0  0  0  0  0  0  0  0 19  0  0  0  0  0  0  0  0]\n",
      " [ 0  0  0  0  0  0  0  0  0  0  0  0  0  0 20  0  0  0  0  0  0  0]\n",
      " [ 0  0  0  0  0  0  0  0  0  0  0  0  0  0  0 20  0  0  0  0  0  0]\n",
      " [ 0  0  0  0  0  0  0  0  0  0  0  0  0  0  0  0 19  0  0  1  0  0]\n",
      " [ 0  0  0  0  0  0  0  0  1  0  0  0  0  0  0  0  0 19  0  0  0  0]\n",
      " [ 0  0  1  0  0  0  0  0  0  0  1  0  1  0  0  0  0  0 17  0  0  0]\n",
      " [ 0  0  0  0  0  0  0  0  0  0  0  0  0  0  0  0  0  0  0 20  0  0]\n",
      " [ 0  0  0  0  0  0  0  0  3  0  0  0  0  0  0  0  0  0  0  0 17  0]\n",
      " [ 0  0  0  0  0  0  0  0  0  0  0  0  0  0  0  0  0  0  0  0  0 20]]\n"
     ]
    }
   ],
   "source": [
    "# creating confuion matrix\n",
    "cm = confusion_matrix(y_test, y_pred)\n",
    "print(cm)"
   ]
  },
  {
   "cell_type": "code",
   "execution_count": 63,
   "metadata": {},
   "outputs": [
    {
     "name": "stdout",
     "output_type": "stream",
     "text": [
      "Accuracy score 0.975\n",
      "              precision    recall  f1-score   support\n",
      "\n",
      "           0       1.00      1.00      1.00        20\n",
      "           1       1.00      1.00      1.00        20\n",
      "           2       0.86      0.95      0.90        20\n",
      "           3       1.00      1.00      1.00        20\n",
      "           4       1.00      1.00      1.00        20\n",
      "           5       1.00      1.00      1.00        20\n",
      "           6       1.00      1.00      1.00        20\n",
      "           7       1.00      1.00      1.00        20\n",
      "           8       0.83      1.00      0.91        20\n",
      "           9       1.00      1.00      1.00        20\n",
      "          10       0.90      0.95      0.93        20\n",
      "          11       1.00      1.00      1.00        20\n",
      "          12       0.95      1.00      0.98        20\n",
      "          13       1.00      0.95      0.97        20\n",
      "          14       1.00      1.00      1.00        20\n",
      "          15       1.00      1.00      1.00        20\n",
      "          16       1.00      0.95      0.97        20\n",
      "          17       1.00      0.95      0.97        20\n",
      "          18       1.00      0.85      0.92        20\n",
      "          19       0.95      1.00      0.98        20\n",
      "          20       1.00      0.85      0.92        20\n",
      "          21       1.00      1.00      1.00        20\n",
      "\n",
      "    accuracy                           0.97       440\n",
      "   macro avg       0.98      0.98      0.98       440\n",
      "weighted avg       0.98      0.97      0.98       440\n",
      "\n"
     ]
    }
   ],
   "source": [
    "acc = accuracy_score(y_test, y_pred)\n",
    "# recall = recall_score(y_test, y_pred)\n",
    "# precision = precision_score(y_test, y_pred)\n",
    "\n",
    "print(\"Accuracy score\", acc)\n",
    "# print(\"Precision score\", precision)\n",
    "# print(\"Recall score\", recall)\n",
    "print(classification_report(y_test, y_pred))"
   ]
  },
  {
   "cell_type": "code",
   "execution_count": null,
   "metadata": {},
   "outputs": [],
   "source": []
  }
 ],
 "metadata": {
  "kernelspec": {
   "display_name": "Python 3",
   "language": "python",
   "name": "python3"
  },
  "language_info": {
   "codemirror_mode": {
    "name": "ipython",
    "version": 3
   },
   "file_extension": ".py",
   "mimetype": "text/x-python",
   "name": "python",
   "nbconvert_exporter": "python",
   "pygments_lexer": "ipython3",
   "version": "3.8.5"
  }
 },
 "nbformat": 4,
 "nbformat_minor": 4
}
